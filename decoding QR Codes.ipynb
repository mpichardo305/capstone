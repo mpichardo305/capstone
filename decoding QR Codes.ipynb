{
 "cells": [
  {
   "cell_type": "code",
   "execution_count": 8,
   "metadata": {},
   "outputs": [],
   "source": [
    "import qrcode\n",
    "import cv2"
   ]
  },
  {
   "cell_type": "code",
   "execution_count": 14,
   "metadata": {},
   "outputs": [],
   "source": [
    "data = \"https://www.wustl.edu\"\n",
    "img = qrcode.make(data)\n",
    "img.save('wustl.png')"
   ]
  },
  {
   "cell_type": "code",
   "execution_count": 7,
   "metadata": {},
   "outputs": [
    {
     "data": {
      "image/png": "[encoded data removed]",
      "text/plain": [
       "<qrcode.image.pil.PilImage at 0x10b538110>"
      ]
     },
     "execution_count": 7,
     "metadata": {},
     "output_type": "execute_result"
    }
   ],
   "source": [
    "img"
   ]
  },
  {
   "cell_type": "code",
   "execution_count": 15,
   "metadata": {},
   "outputs": [],
   "source": [
    "read_img = cv2.imread('wustl.png')\n",
    "detector = cv2.QRCodeDetector()\n",
    "data, bbox, straight_qrcode = detector.detectAndDecode(read_img)"
   ]
  },
  {
   "cell_type": "code",
   "execution_count": 16,
   "metadata": {},
   "outputs": [
    {
     "name": "stdout",
     "output_type": "stream",
     "text": [
      "https://www.wustl.edu\n"
     ]
    }
   ],
   "source": [
    "print(data)"
   ]
  },
  {
   "cell_type": "code",
   "execution_count": 17,
   "metadata": {},
   "outputs": [
    {
     "name": "stdout",
     "output_type": "stream",
     "text": [
      "[[[ 40.       40.     ]]\n",
      "\n",
      " [[288.99997  40.     ]]\n",
      "\n",
      " [[288.99997 288.99997]]\n",
      "\n",
      " [[ 40.      288.99997]]]\n"
     ]
    }
   ],
   "source": [
    "print(bbox)"
   ]
  },
  {
   "cell_type": "code",
   "execution_count": 18,
   "metadata": {},
   "outputs": [
    {
     "name": "stdout",
     "output_type": "stream",
     "text": [
      "[[  0.   0.   0.   0.   0.   0.   0. 255.   0. 255.   0. 255. 255. 255.\n",
      "    0. 255.   0. 255.   0.   0.   0.   0.   0.   0.   0.]\n",
      " [  0. 255. 255. 255. 255. 255.   0. 255. 255. 255. 255.   0.   0.   0.\n",
      "    0. 255. 255. 255.   0. 255. 255. 255. 255. 255.   0.]\n",
      " [  0. 255.   0.   0.   0. 255.   0. 255.   0.   0.   0. 255. 255.   0.\n",
      "    0.   0. 255. 255.   0. 255.   0.   0.   0. 255.   0.]\n",
      " [  0. 255.   0.   0.   0. 255.   0. 255. 255.   0. 255. 255.   0.   0.\n",
      "    0.   0. 255. 255.   0. 255.   0.   0.   0. 255.   0.]\n",
      " [  0. 255.   0.   0.   0. 255.   0. 255. 255. 255.   0.   0.   0.   0.\n",
      "    0. 255. 255. 255.   0. 255.   0.   0.   0. 255.   0.]\n",
      " [  0. 255. 255. 255. 255. 255.   0. 255.   0. 255.   0.   0. 255. 255.\n",
      "    0. 255. 255. 255.   0. 255. 255. 255. 255. 255.   0.]\n",
      " [  0.   0.   0.   0.   0.   0.   0. 255.   0. 255.   0. 255.   0. 255.\n",
      "    0. 255.   0. 255.   0.   0.   0.   0.   0.   0.   0.]\n",
      " [255. 255. 255. 255. 255. 255. 255. 255. 255. 255. 255.   0.   0. 255.\n",
      "    0. 255.   0. 255. 255. 255. 255. 255. 255. 255. 255.]\n",
      " [  0. 255.   0. 255. 255. 255.   0.   0. 255. 255.   0.   0.   0. 255.\n",
      "  255.   0. 255. 255. 255.   0. 255. 255.   0. 255.   0.]\n",
      " [  0. 255.   0. 255.   0. 255. 255. 255.   0. 255. 255.   0.   0. 255.\n",
      "  255.   0.   0.   0.   0.   0. 255.   0. 255.   0.   0.]\n",
      " [  0. 255.   0.   0.   0. 255.   0. 255.   0.   0.   0. 255.   0.   0.\n",
      "  255.   0. 255. 255.   0. 255. 255.   0.   0. 255.   0.]\n",
      " [  0. 255.   0.   0.   0.   0. 255.   0.   0. 255.   0.   0. 255. 255.\n",
      "  255.   0. 255.   0.   0.   0. 255.   0. 255. 255. 255.]\n",
      " [  0.   0.   0. 255.   0.   0.   0. 255. 255. 255. 255. 255.   0. 255.\n",
      "  255.   0. 255. 255.   0. 255. 255. 255. 255. 255.   0.]\n",
      " [255. 255.   0.   0.   0. 255. 255. 255. 255. 255. 255. 255.   0. 255.\n",
      "    0.   0.   0.   0.   0.   0. 255. 255. 255.   0.   0.]\n",
      " [  0.   0.   0. 255. 255.   0.   0. 255.   0. 255. 255. 255.   0.   0.\n",
      "  255.   0. 255. 255.   0. 255. 255.   0.   0. 255.   0.]\n",
      " [255. 255.   0.   0.   0.   0. 255. 255. 255. 255.   0.   0.   0. 255.\n",
      "    0. 255.   0.   0.   0.   0.   0.   0. 255. 255. 255.]\n",
      " [  0.   0.   0.   0. 255. 255.   0. 255. 255. 255. 255. 255. 255.   0.\n",
      "    0.   0.   0.   0.   0.   0.   0. 255. 255.   0. 255.]\n",
      " [255. 255. 255. 255. 255. 255. 255. 255.   0.   0. 255. 255. 255.   0.\n",
      "  255.   0.   0. 255. 255. 255.   0. 255. 255. 255.   0.]\n",
      " [  0.   0.   0.   0.   0.   0.   0. 255.   0.   0.   0.   0. 255. 255.\n",
      "  255. 255.   0. 255.   0. 255.   0. 255. 255. 255.   0.]\n",
      " [  0. 255. 255. 255. 255. 255.   0. 255. 255.   0. 255. 255. 255.   0.\n",
      "  255.   0.   0. 255. 255. 255.   0. 255. 255.   0. 255.]\n",
      " [  0. 255.   0.   0.   0. 255.   0. 255. 255.   0.   0.   0.   0.   0.\n",
      "  255.   0.   0.   0.   0.   0.   0. 255. 255. 255.   0.]\n",
      " [  0. 255.   0.   0.   0. 255.   0. 255. 255.   0. 255. 255.   0. 255.\n",
      "  255.   0.   0. 255. 255. 255.   0. 255.   0.   0. 255.]\n",
      " [  0. 255.   0.   0.   0. 255.   0. 255.   0.   0.   0. 255.   0.   0.\n",
      "    0. 255.   0.   0. 255.   0.   0.   0. 255.   0.   0.]\n",
      " [  0. 255. 255. 255. 255. 255.   0. 255. 255. 255. 255.   0.   0. 255.\n",
      "    0.   0.   0.   0.   0.   0.   0. 255. 255. 255. 255.]\n",
      " [  0.   0.   0.   0.   0.   0.   0. 255.   0.   0.   0. 255. 255.   0.\n",
      "    0. 255.   0.   0. 255. 255. 255.   0. 255. 255.   0.]]\n"
     ]
    }
   ],
   "source": [
    "print(straight_qrcode)"
   ]
  },
  {
   "cell_type": "code",
   "execution_count": null,
   "metadata": {},
   "outputs": [],
   "source": []
  }
 ],
 "metadata": {
  "kernelspec": {
   "display_name": "Python 3",
   "language": "python",
   "name": "python3"
  },
  "language_info": {
   "codemirror_mode": {
    "name": "ipython",
    "version": 3
   },
   "file_extension": ".py",
   "mimetype": "text/x-python",
   "name": "python",
   "nbconvert_exporter": "python",
   "pygments_lexer": "ipython3",
   "version": "3.7.4"
  }
 },
 "nbformat": 4,
 "nbformat_minor": 2
}
